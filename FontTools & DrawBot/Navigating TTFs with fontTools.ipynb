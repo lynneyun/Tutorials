{
 "cells": [
  {
   "cell_type": "markdown",
   "metadata": {},
   "source": [
    "# Navigating TTFs via FontTools#\n",
    "\n",
    "by [Lynne Yun](https://www.lynneyun.com)\n",
    "\n",
    "If you've ever tried to parse font files like TTFs, you'll know that it's no simple task. However, there is a powerful python module called FontTools that can help you! In this mini-tutorial, I'll go over how to use some functions of `fontTools`, and eventually illustrate what we can do with them via `drawBot`. This post was inspired by [Allison Parrish](https://www.decontextualize.com/)'s Notebook on [Manipulating Font Data](https://github.com/aparrish/material-of-language/blob/master/manipulating-font-data.ipynb), so check that out if you want more context!"
   ]
  },
  {
   "cell_type": "markdown",
   "metadata": {},
   "source": [
    "This first cell demonstrates installing drawBot and fonttools if you don't have them already. Uncomment and install if necessary:"
   ]
  },
  {
   "cell_type": "code",
   "execution_count": null,
   "metadata": {},
   "outputs": [],
   "source": [
    "#!pip install git+https://github.com/typemytype/drawbot\n",
    "#!pip install fonttools"
   ]
  },
  {
   "cell_type": "markdown",
   "metadata": {},
   "source": [
    "## fontTools ##\n",
    "What is fontTools you say? You can check out the library here: [fontTools Python library](https://rsms.me/fonttools-docs/). For our first example, let's try to grab basic information, such as the GlyphID. I'm importing an open-source typeface here, called Noto Sans.\n",
    "\n",
    "### Calling the GlyphID ###"
   ]
  },
  {
   "cell_type": "code",
   "execution_count": 1,
   "metadata": {
    "scrolled": true
   },
   "outputs": [
    {
     "name": "stdout",
     "output_type": "stream",
     "text": [
      "glyphID is: 68\n"
     ]
    }
   ],
   "source": [
    "from fontTools.ttLib import TTFont\n",
    "font = TTFont(\"./NotoSans-Regular.ttf\")\n",
    "print('glyphID is: ' + str(font.getGlyphID('a')))"
   ]
  },
  {
   "cell_type": "markdown",
   "metadata": {},
   "source": [
    "Now, that's the `glyphID`, which is not the Unicode Codepoint. Glyph IDs are the order in which the glyphs have been arranged in a font file, and may not be the same across different fonts. \n",
    "\n",
    "### Calling the Unicode Codepoint ###\n",
    "In case you want to grab the unicode codepoint represented as an integer, you can use `ord`."
   ]
  },
  {
   "cell_type": "code",
   "execution_count": 2,
   "metadata": {
    "scrolled": true
   },
   "outputs": [
    {
     "name": "stdout",
     "output_type": "stream",
     "text": [
      "97\n"
     ]
    }
   ],
   "source": [
    "print(ord('a'))"
   ]
  },
  {
   "cell_type": "markdown",
   "metadata": {},
   "source": [
    "### Calling the Glyph Width ###\n",
    "In font files, there are 'widths' of each glyph. They include the left and right sidebearings. Access the advances with the font object's `.width` attribute. You will have to call `getGlyphSet()` in order to do so."
   ]
  },
  {
   "cell_type": "code",
   "execution_count": 3,
   "metadata": {
    "scrolled": true
   },
   "outputs": [
    {
     "name": "stdout",
     "output_type": "stream",
     "text": [
      "width of glyph is 561\n"
     ]
    }
   ],
   "source": [
    "glyph = font.getGlyphSet()['a']\n",
    "print('width of glyph is ' + str(glyph.width))"
   ]
  },
  {
   "cell_type": "markdown",
   "metadata": {},
   "source": [
    "### Units Per Em Value ###\n",
    "\n",
    "You can also get the `unitsPerEm` attribute of the font object from the `_c_m_a_p`:"
   ]
  },
  {
   "cell_type": "code",
   "execution_count": 4,
   "metadata": {},
   "outputs": [
    {
     "name": "stdout",
     "output_type": "stream",
     "text": [
      "units per em is: 1000\n"
     ]
    }
   ],
   "source": [
    "from fontTools.ttLib.tables._c_m_a_p import CmapSubtable\n",
    "units_per_em = font['head'].unitsPerEm\n",
    "print('units per em is: ' + str(units_per_em))"
   ]
  },
  {
   "cell_type": "markdown",
   "metadata": {},
   "source": [
    "### Getting Glyph Outlines via RecordingPen ###\n",
    "Let's try to do something a bit more interesting, perhaps — let's grab all the points from the glyph using a `RecordingPen`."
   ]
  },
  {
   "cell_type": "code",
   "execution_count": 5,
   "metadata": {},
   "outputs": [
    {
     "data": {
      "text/plain": [
       "[('moveTo', ((288, 545),)),\n",
       " ('qCurveTo', ((386, 545), (480, 459), (480, 365))),\n",
       " ('lineTo', ((480, 0),)),\n",
       " ('lineTo', ((416, 0),)),\n",
       " ('lineTo', ((399, 76),)),\n",
       " ('lineTo', ((395, 76),)),\n",
       " ('qCurveTo', ((360, 32), (282, -10), (215, -10))),\n",
       " ('qCurveTo', ((142, -10), (46, 67), (46, 149))),\n",
       " ('qCurveTo', ((46, 229), (172, 316), (303, 320))),\n",
       " ('lineTo', ((394, 323),)),\n",
       " ('lineTo', ((394, 355),)),\n",
       " ('qCurveTo', ((394, 422), (336, 474), (283, 474))),\n",
       " ('qCurveTo', ((241, 474), (165, 449), (132, 433))),\n",
       " ('lineTo', ((105, 499),)),\n",
       " ('qCurveTo', ((140, 518), (236, 545), (288, 545))),\n",
       " ('closePath', ()),\n",
       " ('moveTo', ((393, 262),)),\n",
       " ('lineTo', ((314, 259),)),\n",
       " ('qCurveTo', ((214, 255), (137, 199), (137, 148))),\n",
       " ('qCurveTo', ((137, 103), (192, 61), (235, 61))),\n",
       " ('qCurveTo', ((302, 61), (393, 136), (393, 214))),\n",
       " ('closePath', ())]"
      ]
     },
     "execution_count": 5,
     "metadata": {},
     "output_type": "execute_result"
    }
   ],
   "source": [
    "from fontTools.pens.recordingPen import RecordingPen\n",
    "glyph = font.getGlyphSet()['a']\n",
    "p = RecordingPen()\n",
    "glyph.draw(p)\n",
    "p.value"
   ]
  },
  {
   "cell_type": "markdown",
   "metadata": {},
   "source": [
    "If you're not sure about what `moveTo`, `qCurveTo`, `lineTo` is doing refer to the [DrawBot BezierPath Documentation](https://www.drawbot.com/content/shapes/bezierPath.html). \n",
    "\n",
    "I'm going to make a function to make grabbing the curve information easier:"
   ]
  },
  {
   "cell_type": "code",
   "execution_count": 6,
   "metadata": {},
   "outputs": [],
   "source": [
    "def get_outline(font, ch):\n",
    "    glyph = font.getGlyphSet()[ch]\n",
    "    p = RecordingPen()\n",
    "    glyph.draw(p)\n",
    "    return p.value"
   ]
  },
  {
   "cell_type": "markdown",
   "metadata": {},
   "source": [
    "you can see that now this one line is all we need:"
   ]
  },
  {
   "cell_type": "code",
   "execution_count": 7,
   "metadata": {
    "scrolled": true
   },
   "outputs": [
    {
     "data": {
      "text/plain": [
       "[('moveTo', ((288, 545),)),\n",
       " ('qCurveTo', ((386, 545), (480, 459), (480, 365))),\n",
       " ('lineTo', ((480, 0),)),\n",
       " ('lineTo', ((416, 0),)),\n",
       " ('lineTo', ((399, 76),)),\n",
       " ('lineTo', ((395, 76),)),\n",
       " ('qCurveTo', ((360, 32), (282, -10), (215, -10))),\n",
       " ('qCurveTo', ((142, -10), (46, 67), (46, 149))),\n",
       " ('qCurveTo', ((46, 229), (172, 316), (303, 320))),\n",
       " ('lineTo', ((394, 323),)),\n",
       " ('lineTo', ((394, 355),)),\n",
       " ('qCurveTo', ((394, 422), (336, 474), (283, 474))),\n",
       " ('qCurveTo', ((241, 474), (165, 449), (132, 433))),\n",
       " ('lineTo', ((105, 499),)),\n",
       " ('qCurveTo', ((140, 518), (236, 545), (288, 545))),\n",
       " ('closePath', ()),\n",
       " ('moveTo', ((393, 262),)),\n",
       " ('lineTo', ((314, 259),)),\n",
       " ('qCurveTo', ((214, 255), (137, 199), (137, 148))),\n",
       " ('qCurveTo', ((137, 103), (192, 61), (235, 61))),\n",
       " ('qCurveTo', ((302, 61), (393, 136), (393, 214))),\n",
       " ('closePath', ())]"
      ]
     },
     "execution_count": 7,
     "metadata": {},
     "output_type": "execute_result"
    }
   ],
   "source": [
    "get_outline(font, \"a\")"
   ]
  },
  {
   "cell_type": "markdown",
   "metadata": {},
   "source": [
    "If you are playing with the above code though, you'll notice that glyphs that are made out of composites like the 'atilde' give us components, not the actual outlines:"
   ]
  },
  {
   "cell_type": "code",
   "execution_count": 8,
   "metadata": {},
   "outputs": [
    {
     "data": {
      "text/plain": [
       "[('addComponent', ('a', (1, 0, 0, 1, 0, 0))),\n",
       " ('addComponent', ('tilde', (1, 0, 0, 1, 57, 0)))]"
      ]
     },
     "execution_count": 8,
     "metadata": {},
     "output_type": "execute_result"
    }
   ],
   "source": [
    "get_outline(font, \"atilde\")"
   ]
  },
  {
   "cell_type": "markdown",
   "metadata": {},
   "source": [
    "### Decomposing Recording Pen ###\n",
    "\n",
    "To grab these, we will need the `Decomposing Pen` to decompose them. Here is the modified function from above to grab all outlines. Now trying to grab `atilde` should work!"
   ]
  },
  {
   "cell_type": "code",
   "execution_count": 9,
   "metadata": {},
   "outputs": [],
   "source": [
    "from fontTools.pens.recordingPen import DecomposingRecordingPen\n",
    "\n",
    "def get_all_outlines(font, ch):\n",
    "    glyphset = font.getGlyphSet()\n",
    "    glyph = glyphset[ch]\n",
    "    p = DecomposingRecordingPen(glyphset)\n",
    "    glyph.draw(p)\n",
    "    return p.value\n",
    "\n",
    "# print(get_all_outlines(font, \"atilde\"))"
   ]
  },
  {
   "cell_type": "markdown",
   "metadata": {},
   "source": [
    "### Getting all Glyph Names ###\n",
    "\n",
    "You can also get all the Glyph Names in a font file, using `getGlyphNames()`."
   ]
  },
  {
   "cell_type": "code",
   "execution_count": null,
   "metadata": {},
   "outputs": [],
   "source": [
    "font.getGlyphNames()"
   ]
  },
  {
   "cell_type": "markdown",
   "metadata": {},
   "source": [
    "Using this, we can also get how many characters are in this font file:"
   ]
  },
  {
   "cell_type": "code",
   "execution_count": 10,
   "metadata": {
    "scrolled": true
   },
   "outputs": [
    {
     "data": {
      "text/plain": [
       "3246"
      ]
     },
     "execution_count": 10,
     "metadata": {},
     "output_type": "execute_result"
    }
   ],
   "source": [
    "len(font.getGlyphNames())"
   ]
  },
  {
   "cell_type": "markdown",
   "metadata": {},
   "source": [
    "## Let's do fun things with Drawbot! ##\n",
    "\n",
    "Okay, what can we do with all this information besides just plain information, you say? Let's do some fun things, illustrated with [DrawBot](https://drawbot.com). I'm going to use `Drawbot` as a python module here, so let's import it."
   ]
  },
  {
   "cell_type": "code",
   "execution_count": 11,
   "metadata": {},
   "outputs": [],
   "source": [
    "import drawBot as draw"
   ]
  },
  {
   "cell_type": "markdown",
   "metadata": {},
   "source": [
    "I'm using drawbot as a module here, so I need to set it up so I can see it on my Jupyter Notebook. I'm setting a `startdraw` function and `show` so I can quickly call it while I'm drawing things, since drawbot needs the same lines to start and end a drawing.\n",
    "\n",
    "This incorporates the IPython module, so you may need to install it if you don't already have it."
   ]
  },
  {
   "cell_type": "code",
   "execution_count": 12,
   "metadata": {},
   "outputs": [],
   "source": [
    "from IPython.display import Image, display\n",
    "\n",
    "def startdraw(canvas_width,canvas_height):\n",
    "    draw.newDrawing()\n",
    "    draw.newPage(canvas_width, canvas_height)\n",
    "    \n",
    "def show():\n",
    "    draw.saveImage(\"drawBotImage.png\")\n",
    "    draw.endDrawing()\n",
    "    drawing = Image(filename = \"drawBotImage.png\")\n",
    "    display(drawing)"
   ]
  },
  {
   "cell_type": "markdown",
   "metadata": {},
   "source": [
    "### Modifying Outline Paths ###\n",
    "Using the `get_outline` function we made before, let's draw the letter 'a'. I'm parsing information from `get_outline`, making a `BezierPath` object, and adding all the paths in there. Take a look at the [Drawbot Documentation for BezierPath](http://www.drawbot.com/content/shapes/bezierPath.html) if you need a refresher. You'll notice that I'm using the `.scale` to reduce the size before doing the line too."
   ]
  },
  {
   "cell_type": "code",
   "execution_count": 13,
   "metadata": {},
   "outputs": [
    {
     "data": {
      "image/png": "[encoded data removed]",
      "text/plain": [
       "<IPython.core.display.Image object>"
      ]
     },
     "metadata": {},
     "output_type": "display_data"
    }
   ],
   "source": [
    "path_orig = get_outline(font, \"a\")\n",
    "startdraw(200,200)\n",
    "\n",
    "paths = []\n",
    "for i in path_orig:\n",
    "    if i[0] == 'moveTo':\n",
    "        path = draw.BezierPath()\n",
    "        path.moveTo((i[1][0]))\n",
    "    if i[0] == 'lineTo':\n",
    "        path.lineTo((i[1][0]))\n",
    "    if i[0] == 'qCurveTo':\n",
    "        path.qCurveTo(*(i[1]))\n",
    "    if i[0] == 'closePath':\n",
    "        path.closePath()\n",
    "        paths.append(path)\n",
    "\n",
    "finalpath = paths[0].difference(paths[1])\n",
    "finalpath.scale(0.3) #let's scale it down!\n",
    "draw.fill(0.5)\n",
    "draw.stroke(0)\n",
    "draw.drawPath(finalpath)\n",
    "show()"
   ]
  },
  {
   "cell_type": "markdown",
   "metadata": {},
   "source": [
    "Ta-da! We made just one single letter, no big deal, you might say. Let's start manipulating all the points to give it a distorted filter:"
   ]
  },
  {
   "cell_type": "code",
   "execution_count": 14,
   "metadata": {},
   "outputs": [
    {
     "data": {
      "image/png": "[encoded data removed]",
      "text/plain": [
       "<IPython.core.display.Image object>"
      ]
     },
     "metadata": {},
     "output_type": "display_data"
    }
   ],
   "source": [
    "import random\n",
    "path_orig = get_outline(font, \"a\")\n",
    "startdraw(300,300)\n",
    "paths = []\n",
    "for i in path_orig:\n",
    "    disturbance = random.randint(-35, 35)\n",
    "    if i[0] == 'moveTo':\n",
    "        x = i[1][0][0] + disturbance\n",
    "        y = i[1][0][1] + disturbance\n",
    "        path = draw.BezierPath()\n",
    "        path.moveTo((x,y))\n",
    "    if i[0] == 'lineTo':\n",
    "        x = i[1][0][0] + disturbance\n",
    "        y = i[1][0][1]+ disturbance\n",
    "        path.lineTo((x,y))\n",
    "    if i[0] == 'qCurveTo':\n",
    "        temp = []\n",
    "        for cord in i[1]:\n",
    "            x = cord[0] + disturbance\n",
    "            y = cord[1] + disturbance\n",
    "            temp.append((x,y))\n",
    "        path.qCurveTo(*temp)\n",
    "    if i[0] == 'closePath':\n",
    "        path.closePath()\n",
    "        paths.append(path)\n",
    "finalpath = paths[0].difference(paths[1])\n",
    "finalpath.scale(0.3) #let's scale it down!\n",
    "draw.fill(0.5)\n",
    "draw.stroke(0)\n",
    "draw.drawPath(finalpath)\n",
    "show()"
   ]
  },
  {
   "cell_type": "markdown",
   "metadata": {},
   "source": [
    "## Parting words ##\n",
    "See, lots of fun things! :-) That's it from me (at least for now.)\n",
    "\n",
    "Check out the wiki Page on Github for fontTools if you would like to dig deeper:\n",
    "[Wiki Page on Github for FontTools](https://github.com/fonttools/fonttools/wiki) \n",
    "\n",
    "Wish you the best of luck on your font-navigating journey!"
   ]
  }
 ],
 "metadata": {
  "kernelspec": {
   "display_name": "Python 3",
   "language": "python",
   "name": "python3"
  },
  "language_info": {
   "codemirror_mode": {
    "name": "ipython",
    "version": 3
   },
   "file_extension": ".py",
   "mimetype": "text/x-python",
   "name": "python",
   "nbconvert_exporter": "python",
   "pygments_lexer": "ipython3",
   "version": "3.7.7"
  }
 },
 "nbformat": 4,
 "nbformat_minor": 4
}
