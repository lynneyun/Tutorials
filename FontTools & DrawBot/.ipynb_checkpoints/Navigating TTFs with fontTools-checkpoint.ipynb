{
 "cells": [
  {
   "cell_type": "markdown",
   "metadata": {},
   "source": [
    "# Navigating TTFs via FontTools#\n",
    "\n",
    "by [Lynne Yun](https://www.lynneyun.com)\n",
    "\n",
    "If you've ever tried to parse font files like TTFs, you'll know that it's no simple task. However, there is a powerful python module called FontTools that can help you! In this mini-tutorial, I'll go over how to use some functions of `fontTools`, and eventually illustrate what we can do with them via `drawBot`. This post was inspired by [Allison Parrish](https://www.decontextualize.com/)'s Notebook on [Manipulating Font Data](https://github.com/aparrish/material-of-language/blob/master/manipulating-font-data.ipynb), so check that out if you want more context!"
   ]
  },
  {
   "cell_type": "markdown",
   "metadata": {},
   "source": [
    "This first cell demonstrates installing drawBot and fonttools if you don't have them already. Uncomment and install if necessary:"
   ]
  },
  {
   "cell_type": "code",
   "execution_count": 1,
   "metadata": {},
   "outputs": [],
   "source": [
    "#!pip install git+https://github.com/typemytype/drawbot\n",
    "#!pip install fonttools"
   ]
  },
  {
   "cell_type": "markdown",
   "metadata": {},
   "source": [
    "## fontTools ##\n",
    "What is fontTools you say? You can check out the library here: [fontTools Python library](https://rsms.me/fonttools-docs/). For our first example, let's try to grab basic information, such as the GlyphID. I'm importing an open-source typeface here, called Noto Sans.\n",
    "\n",
    "### Calling the GlyphID ###"
   ]
  },
  {
   "cell_type": "code",
   "execution_count": 2,
   "metadata": {
    "scrolled": true
   },
   "outputs": [
    {
     "name": "stdout",
     "output_type": "stream",
     "text": [
      "glyphID is: 68\n"
     ]
    }
   ],
   "source": [
    "from fontTools.ttLib import TTFont\n",
    "font = TTFont(\"./NotoSans-Regular.ttf\")\n",
    "print('glyphID is: ' + str(font.getGlyphID('a')))"
   ]
  },
  {
   "cell_type": "markdown",
   "metadata": {},
   "source": [
    "Now, that's the `glyphID`, which is not the Unicode Codepoint. Glyph IDs are the order in which the glyphs have been arranged in a font file, and may not be the same across different fonts. \n",
    "\n",
    "### Calling the Unicode Codepoint ###\n",
    "In case you want to grab the unicode codepoint represented as an integer, you can use `ord`."
   ]
  },
  {
   "cell_type": "code",
   "execution_count": 3,
   "metadata": {
    "scrolled": true
   },
   "outputs": [
    {
     "name": "stdout",
     "output_type": "stream",
     "text": [
      "97\n"
     ]
    }
   ],
   "source": [
    "print(ord('a'))"
   ]
  },
  {
   "cell_type": "markdown",
   "metadata": {},
   "source": [
    "### Calling the Glyph Width ###\n",
    "In font files, there are 'widths' of each glyph. They include the left and right sidebearings. Access the advances with the font object's `.width` attribute. You will have to call `getGlyphSet()` in order to do so."
   ]
  },
  {
   "cell_type": "code",
   "execution_count": 4,
   "metadata": {
    "scrolled": true
   },
   "outputs": [
    {
     "name": "stdout",
     "output_type": "stream",
     "text": [
      "width of glyph is 561\n"
     ]
    }
   ],
   "source": [
    "glyph = font.getGlyphSet()['a']\n",
    "print('width of glyph is ' + str(glyph.width))"
   ]
  },
  {
   "cell_type": "markdown",
   "metadata": {},
   "source": [
    "### Units Per Em Value ###\n",
    "\n",
    "You can also get the `unitsPerEm` attribute of the font object from the `_c_m_a_p`:"
   ]
  },
  {
   "cell_type": "code",
   "execution_count": 5,
   "metadata": {},
   "outputs": [
    {
     "name": "stdout",
     "output_type": "stream",
     "text": [
      "units per em is: 1000\n"
     ]
    }
   ],
   "source": [
    "from fontTools.ttLib.tables._c_m_a_p import CmapSubtable\n",
    "units_per_em = font['head'].unitsPerEm\n",
    "print('units per em is: ' + str(units_per_em))"
   ]
  },
  {
   "cell_type": "markdown",
   "metadata": {},
   "source": [
    "### Getting Glyph Outlines via RecordingPen ###\n",
    "Let's try to do something a bit more interesting, perhaps — let's grab all the points from the glyph using a `RecordingPen`."
   ]
  },
  {
   "cell_type": "code",
   "execution_count": 6,
   "metadata": {},
   "outputs": [
    {
     "data": {
      "text/plain": [
       "[('moveTo', ((288, 545),)),\n",
       " ('qCurveTo', ((386, 545), (480, 459), (480, 365))),\n",
       " ('lineTo', ((480, 0),)),\n",
       " ('lineTo', ((416, 0),)),\n",
       " ('lineTo', ((399, 76),)),\n",
       " ('lineTo', ((395, 76),)),\n",
       " ('qCurveTo', ((360, 32), (282, -10), (215, -10))),\n",
       " ('qCurveTo', ((142, -10), (46, 67), (46, 149))),\n",
       " ('qCurveTo', ((46, 229), (172, 316), (303, 320))),\n",
       " ('lineTo', ((394, 323),)),\n",
       " ('lineTo', ((394, 355),)),\n",
       " ('qCurveTo', ((394, 422), (336, 474), (283, 474))),\n",
       " ('qCurveTo', ((241, 474), (165, 449), (132, 433))),\n",
       " ('lineTo', ((105, 499),)),\n",
       " ('qCurveTo', ((140, 518), (236, 545), (288, 545))),\n",
       " ('closePath', ()),\n",
       " ('moveTo', ((393, 262),)),\n",
       " ('lineTo', ((314, 259),)),\n",
       " ('qCurveTo', ((214, 255), (137, 199), (137, 148))),\n",
       " ('qCurveTo', ((137, 103), (192, 61), (235, 61))),\n",
       " ('qCurveTo', ((302, 61), (393, 136), (393, 214))),\n",
       " ('closePath', ())]"
      ]
     },
     "execution_count": 6,
     "metadata": {},
     "output_type": "execute_result"
    }
   ],
   "source": [
    "from fontTools.pens.recordingPen import RecordingPen\n",
    "glyph = font.getGlyphSet()['a']\n",
    "p = RecordingPen()\n",
    "glyph.draw(p)\n",
    "p.value"
   ]
  },
  {
   "cell_type": "markdown",
   "metadata": {},
   "source": [
    "If you're not sure about what `moveTo`, `qCurveTo`, `lineTo` is doing refer to the [DrawBot BezierPath Documentation](https://www.drawbot.com/content/shapes/bezierPath.html). \n",
    "\n",
    "I'm going to make a function to make grabbing the curve information easier:"
   ]
  },
  {
   "cell_type": "code",
   "execution_count": 7,
   "metadata": {},
   "outputs": [],
   "source": [
    "def get_outline(font, ch):\n",
    "    glyph = font.getGlyphSet()[ch]\n",
    "    p = RecordingPen()\n",
    "    glyph.draw(p)\n",
    "    return p.value"
   ]
  },
  {
   "cell_type": "markdown",
   "metadata": {},
   "source": [
    "you can see that now this one line is all we need:"
   ]
  },
  {
   "cell_type": "code",
   "execution_count": null,
   "metadata": {
    "scrolled": true
   },
   "outputs": [],
   "source": [
    "print(get_outline(font, \"a\"))"
   ]
  },
  {
   "cell_type": "markdown",
   "metadata": {},
   "source": [
    "If you are playing with the above code though, you'll notice that glyphs that are made out of composites like the 'atilde' give us components, not the actual outlines:"
   ]
  },
  {
   "cell_type": "code",
   "execution_count": 8,
   "metadata": {},
   "outputs": [
    {
     "name": "stdout",
     "output_type": "stream",
     "text": [
      "[('addComponent', ('a', (1, 0, 0, 1, 0, 0))), ('addComponent', ('tilde', (1, 0, 0, 1, 57, 0)))]\n"
     ]
    }
   ],
   "source": [
    "print(get_outline(font, \"atilde\"))"
   ]
  },
  {
   "cell_type": "markdown",
   "metadata": {},
   "source": [
    "### Decomposing Recording Pen ###\n",
    "\n",
    "To grab these, we will need the `Decomposing Pen` to decompose them. Here is the modified function from above to grab all outlines. Now trying to grab `atilde` should work!"
   ]
  },
  {
   "cell_type": "code",
   "execution_count": null,
   "metadata": {},
   "outputs": [],
   "source": [
    "from fontTools.pens.recordingPen import DecomposingRecordingPen\n",
    "\n",
    "def get_all_outlines(font, ch):\n",
    "    glyphset = font.getGlyphSet()\n",
    "    glyph = glyphset[ch]\n",
    "    p = DecomposingRecordingPen(glyphset)\n",
    "    glyph.draw(p)\n",
    "    return p.value\n",
    "\n",
    "print(get_all_outlines(font, \"atilde\"))"
   ]
  },
  {
   "cell_type": "markdown",
   "metadata": {},
   "source": [
    "### Getting all Glyph Names ###\n",
    "\n",
    "You can also get all the Glyph Names in a font file."
   ]
  },
  {
   "cell_type": "code",
   "execution_count": 9,
   "metadata": {},
   "outputs": [
    {
     "name": "stdout",
     "output_type": "stream",
     "text": [
      "['.notdef', 'A', 'AE', 'AEacute', 'Aacute', 'Abreve', 'Acircumflex', 'Adieresis', 'Agrave', 'Alpha', 'Alphatonos', 'Amacron', 'Aogonek', 'Aogonek.loclNAV', 'Aring', 'Aringacute', 'Atilde', 'B', 'Beta', 'C', 'CDoubleStruck', 'CR', 'Cacute', 'Ccaron', 'Ccedilla', 'Ccircumflex', 'Cdot', 'Cfraktur', 'Chi', 'D', 'Dcaron', 'Dcroat', 'E', 'Eacute', 'Ebreve', 'Ecaron', 'Ecircumflex', 'Edieresis', 'Edotaccent', 'Egrave', 'Emacron', 'Eng', 'Eng.alt1', 'Eng.alt2', 'Eng.alt3', 'Eogonek', 'Eogonek.loclNAV', 'Epsilon', 'Epsilontonos', 'Eta', 'Etatonos', 'Eth', 'Euro', 'F', 'G', 'Gamma', 'GammaDoubleStruck', 'Gbreve', 'Gcircumflex', 'Gdot', 'H', 'HDoubleStruck', 'Hbar', 'Hcircumflex', 'Hfraktur', 'I', 'IJ', 'Iacute', 'Ibreve', 'Icircumflex', 'Idieresis', 'Idotaccent', 'Ifraktur', 'Igrave', 'Imacron', 'Iogonek', 'Iogonek.loclNAV', 'Iota', 'Iotadieresis', 'Iotatonos', 'ItalicDDoubleStruck', 'ItalicdDoubleStruck', 'ItaliceDoubleStruck', 'ItaliciDoubleStruck', 'ItalicjDoubleStruck', 'Itilde', 'J', 'Jcircumflex', 'K', 'Kappa', 'L', 'Lacute', 'Lambda', 'Lcaron', 'Lcommaaccent.loclMAH', 'Ldot', 'Lslash', 'M', 'Mu', 'N', 'NDoubleStruck', 'NULL', 'Nacute', 'Ncaron', 'Ncommaaccent.loclMAH', 'Ntilde', 'Nu', 'O', 'OE', 'Oacute', 'Obreve', 'Ocircumflex', 'Odieresis', 'Ograve', 'Ohorn', 'Ohungarumlaut', 'Omacron', 'Omegatonos', 'Omicron', 'Omicrontonos', 'Oslash', 'Oslashacute', 'Otilde', 'P', 'PDoubleStruck', 'Phi', 'Pi', 'PiDoubleStruck', 'Psi', 'Q', 'QDoubleStruck', 'R', 'RDoubleStruck', 'Racute', 'Rcaron', 'Rfraktur', 'Rho', 'RotatedQ', 'S', 'Sacute', 'Scaron', 'Scedilla', 'Scircumflex', 'Sigma', 'T', 'Tau', 'Tbar', 'Tcaron', 'Theta', 'Thorn', 'TurnedF', 'Turneda', 'Turnede', 'U', 'Uacute', 'Ubreve', 'Ucircumflex', 'Udieresis', 'Ugrave', 'Uhorn', 'Uhungarumlaut', 'Umacron', 'Uogonek', 'Uogonek.loclNAV', 'Upsilon', 'Upsilondieresis', 'Upsilontonos', 'Uring', 'Utilde', 'V', 'W', 'Wacute', 'Wcircumflex', 'Wdieresis', 'Wgrave', 'X', 'Xi', 'Y', 'Yacute', 'Ycircumflex', 'Ydieresis', 'Ygrave', 'Z', 'ZDoubleStruck', 'Zacute', 'Zcaron', 'Zdotaccent', 'Zeta', 'Zfraktur', 'a', 'a.sc', 'aacute', 'aacute.sc', 'abreve', 'abreve.sc', 'acircumflex', 'acircumflex.sc', 'acute', 'acutecomb', 'acutecomb.sc', 'acutegraveacute', 'acutemacron', 'adieresis', 'adieresis.sc', 'ae', 'ae.sc', 'aeacute', 'aeacute.sc', 'afii00208', 'afii08941', 'afii10017', 'afii10018', 'afii10019', 'afii10020', 'afii10021', 'afii10022', 'afii10023', 'afii10024', 'afii10025', 'afii10026', 'afii10027', 'afii10028', 'afii10029', 'afii10030', 'afii10031', 'afii10032', 'afii10033', 'afii10034', 'afii10035', 'afii10036', 'afii10037', 'afii10038', 'afii10039', 'afii10040', 'afii10041', 'afii10042', 'afii10043', 'afii10044', 'afii10045', 'afii10046', 'afii10047', 'afii10048', 'afii10049', 'afii10050', 'afii10051', 'afii10052', 'afii10053', 'afii10054', 'afii10055', 'afii10056', 'afii10057', 'afii10058', 'afii10059', 'afii10060', 'afii10061', 'afii10062', 'afii10065', 'afii10066', 'afii10066.loclSRB', 'afii10067', 'afii10068', 'afii10069', 'afii10070', 'afii10071', 'afii10072', 'afii10073', 'afii10074', 'afii10075', 'afii10076', 'afii10077', 'afii10078', 'afii10079', 'afii10080', 'afii10081', 'afii10082', 'afii10083', 'afii10084', 'afii10085', 'afii10086', 'afii10087', 'afii10088', 'afii10089', 'afii10090', 'afii10091', 'afii10092', 'afii10093', 'afii10094', 'afii10095', 'afii10096', 'afii10097', 'afii10098', 'afii10099', 'afii10100', 'afii10101', 'afii10102', 'afii10103', 'afii10103dotless', 'afii10104', 'afii10105', 'afii10105dotless', 'afii10106', 'afii10107', 'afii10108', 'afii10109', 'afii10110', 'afii10145', 'afii10193', 'afii61248', 'afii61289', 'afii61352', 'agrave', 'agrave.sc', 'alpha', 'alphatonos', 'amacron', 'amacron.sc', 'ampersand', 'ampersand.sc', 'anoteleia', 'aogonek', 'aogonek.loclNAV', 'aogonek.sc', 'aring', 'aring.sc', 'aringacute', 'aringacute.sc', 'asciicircum', 'asciitilde', 'asterisk', 'at', 'atilde', 'atilde.sc', 'b', 'b.sc', 'backslash', 'bar', 'beta', 'braceleft', 'braceleft.sc', 'braceright', 'braceright.sc', 'bracketleft', 'bracketleft.sc', 'bracketright', 'bracketright.sc', 'brackhalfbottomleft', 'brackhalfbottomright', 'brackhalftopleft', 'brackhalftopright', 'breve', 'breveacutecomb', 'brevecomb.sc', 'brevegravecomb', 'brevehookcomb', 'brevemacron', 'brevetildecomb', 'brokenbar', 'bullet', 'c', 'c.sc', 'cacute', 'cacute.sc', 'caret', 'caron', 'caroncomb.sc', 'caroncommaaccent', 'carondot', 'ccaron', 'ccaron.sc', 'ccedilla', 'ccedilla.sc', 'ccircumflex', 'ccircumflex.sc', 'cdot', 'cdot.sc', 'cedilla', 'cent', 'chi', 'circumflex', 'circumflexacutecomb', 'circumflexcomb.sc', 'circumflexgravecomb', 'circumflexhookcomb', 'circumflextildecomb', 'colon', 'combiningconjoiningmacron', 'combiningmacronlefthalf', 'combiningmacronrighthalf', 'comma', 'commaaccent', 'commaaccent2', 'commaaccentrotate', 'copyright', 'currency', 'cyrillic_otmark', 'cyrillicbighookUC', 'cyrillicbreve', 'cyrillichookleft', 'd', 'd.sc', 'dagger', 'daggerdbl', 'dcaron', 'dcaron.sc', 'dcroat', 'dcroat.sc', 'degree', 'delta', 'deltalatin', 'dieresis', 'dieresisacute', 'dieresiscaron', 'dieresiscomb.sc', 'dieresisgrave', 'dieresismacron', 'dieresistonos', 'divide', 'dollar', 'dotaccent', 'dotaccentcomb.sc', 'dotacute', 'dotbelowcomb', 'dotlessi', 'dotmacron', 'dotmacron.cap', 'dottedacute', 'dottedgrave', 'doublecircumflexabove', 'downwardsancora', 'dzlig', 'dzligcurl', 'e', 'e.sc', 'eacute', 'eacute.sc', 'ebreve', 'ebreve.sc', 'ecaron', 'ecaron.sc', 'ecircumflex', 'ecircumflex.sc', 'edieresis', 'edieresis.sc', 'edotaccent', 'edotaccent.sc', 'egrave', 'egrave.sc', 'eight', 'eight.dnom', 'eight.lf', 'eight.numr', 'eight.osf', 'eight.tosf', 'ellipsis', 'emacron', 'emacron.sc', 'emdash', 'endash', 'eng', 'eng.sc', 'eogonek', 'eogonek.loclNAV', 'eogonek.sc', 'epsilon', 'epsilontonos', 'equal', 'estimated', 'eta', 'etatonos', 'eth', 'eth.sc', 'exclam', 'exclam.sc', 'exclamdbl', 'exclamdbl.sc', 'exclamdown', 'exclamdown.sc', 'f', 'f.sc', 'f_f', 'f_f_i', 'f_f_l', 'f_i', 'f_l', 'five', 'five.dnom', 'five.lf', 'five.numr', 'five.osf', 'five.tosf', 'fiveeighths', 'flattenedopenaabove', 'florin', 'four', 'four.dnom', 'four.lf', 'four.numr', 'four.osf', 'four.tosf', 'fraction', 'franc', 'g', 'g.sc', 'gamma', 'gammaDoubleStruck', 'gbreve', 'gbreve.sc', 'gcircumflex', 'gcircumflex.sc', 'gcommaaccent.sc', 'gdot', 'gdot.sc', 'germandbls', 'germandbls.sc', 'glottalturned', 'grave', 'graveacutegrave', 'gravecomb', 'gravecomb.sc', 'gravemacron', 'greater', 'guillemotleft', 'guillemotright', 'guilsinglleft', 'guilsinglleft.sc', 'guilsinglright', 'guilsinglright.sc', 'h', 'h.sc', 'hbar', 'hbar.sc', 'hcircumflex', 'hcircumflex.sc', 'hook', 'hookabovecomb', 'hookpalatalizedbelowcomb', 'hookretroflexbelowcomb', 'hungarumlaut', 'hungarumlautcomb.sc', 'hyphen', 'i', 'i.sc', 'iacute', 'iacute.sc', 'ibreve', 'ibreve.sc', 'icircumflex', 'icircumflex.sc', 'idieresis', 'idieresis.sc', 'idotaccent.sc', 'igrave', 'igrave.sc', 'ij', 'ij.sc', 'imacron', 'imacron.sc', 'iogonek', 'iogonek.loclNAV', 'iogonek.sc', 'iogonekdotless', 'iota', 'iotaLatin', 'iotadieresis', 'iotadieresistonos', 'iotatonos', 'itilde', 'itilde.sc', 'j', 'j.sc', 'jcircumflex', 'jcircumflex.sc', 'k', 'k.sc', 'kappa', 'kcommaaccent.sc', 'kgreenlandic', 'l', 'l.sc', 'lacute', 'lacute.sc', 'lambda', 'lcaron', 'lcaron.sc', 'lcommaaccent.loclMAH', 'lcommaaccent.sc', 'ldot', 'ldot.sc', 'leftdoubleparenthesis', 'less', 'logicalnot', 'longs', 'longs_t', 'lslash', 'lslash.sc', 'm', 'm.sc', 'macron', 'macronacute', 'macronbreve', 'macroncomb.sc', 'macrondieresis', 'macrongrave', 'minute', 'multiply', 'n', 'n.sc', 'nacute', 'nacute.sc', 'napostrophe', 'ncaron', 'ncaron.sc', 'ncommaaccent.loclMAH', 'ncommaaccent.sc', 'nine', 'nine.dnom', 'nine.lf', 'nine.numr', 'nine.osf', 'nine.tosf', 'nsuperior', 'ntilde', 'ntilde.sc', 'nu', 'numbersign', 'o', 'o.sc', 'oacute', 'oacute.sc', 'obreve', 'obreve.sc', 'ocircumflex', 'ocircumflex.sc', 'odieresis', 'odieresis.sc', 'oe', 'oe.sc', 'ogonek', 'ogonekabove', 'ogonekcomb.sc', 'ograve', 'ograve.sc', 'ohorn', 'ohungarumlaut', 'ohungarumlaut.sc', 'omacron', 'omacron.sc', 'omega', 'omegaclosed', 'omegatonos', 'omicron', 'omicrontonos', 'one', 'one.dnom', 'one.lf', 'one.numr', 'one.osf', 'one.tosf', 'onedotenleader', 'onedotovertwodotspunctuation', 'oneeighth', 'onehalf', 'onequarter', 'ordfeminine', 'ordmasculine', 'oslash', 'oslash.sc', 'oslashacute', 'oslashacute.sc', 'otilde', 'otilde.sc', 'overlinecmb', 'overscore', 'overscore.sc', 'p', 'p.sc', 'paragraph', 'parenleft', 'parenleft.sc', 'parenright', 'parenright.sc', 'percent', 'period', 'periodcentered', 'perthousand', 'peseta', 'phi', 'phi1', 'pi', 'piDoubleStruck', 'plus', 'plusminus', 'prescription', 'psi', 'q', 'q.sc', 'question', 'question.sc', 'questiondown', 'questiondown.sc', 'quotedbl', 'quotedblbase', 'quotedblleft', 'quotedblright', 'quoteleft', 'quotereversed', 'quoteright', 'quotesinglbase', 'quotesingle', 'r', 'r.sc', 'racute', 'racute.sc', 'rcaron', 'rcaron.sc', 'rcommaaccent.sc', 'registered', 'reversedSansSerifL', 'reversedparagraph', 'reversedquestionmark', 'rho', 'rightdoubleparenthesis', 'ring', 'ringcomb.sc', 's', 's.sc', 's_t', 'sacute', 'sacute.sc', 'scaron', 'scaron.sc', 'scedilla', 'scedilla.sc', 'scircumflex', 'scircumflex.sc', 'scommaaccent.sc', 'scripte', 'scriptg', 'scripto', 'second', 'section', 'semicolon', 'seven', 'seven.dnom', 'seven.lf', 'seven.numr', 'seven.osf', 'seven.tosf', 'seveneighths', 'sigma', 'sigma1', 'six', 'six.dnom', 'six.lf', 'six.numr', 'six.osf', 'six.tosf', 'slash', 'slashlongoverlaycomb', 'slashshortoverlaycomb', 'snakebelow', 'space', 'squaredfourdotpunctuation', 'sterling', 'strokelongoverlaycomb', 'strokeshortoverlaycomb', 'subscriptj', 'summationDoubleStruck', 'summationDoubleStruck.mir', 'suspensionmark', 'symbolforsamaritansource', 't', 't.sc', 'tau', 'tbar', 'tbar.sc', 'tcaron', 'tcaron.sc', 'tcedilla.sc', 'tcligcurl', 'tcommaaccent.sc', 'theta', 'thorn', 'thorn.sc', 'three', 'three.dnom', 'three.lf', 'three.numr', 'three.osf', 'three.tosf', 'threeeighths', 'threequarters', 'tilde', 'tildeacute', 'tildecomb', 'tildecomb.sc', 'tildedieresis', 'tildemacron', 'tonos', 'trademark', 'tslig', 'turnedSansSerifG', 'turnedSansSerifL', 'turnedSansSerifY', 'two', 'two.dnom', 'two.lf', 'two.numr', 'two.osf', 'two.tosf', 'twodotenleader', 'twodotsoveronedotpunctuation', 'u', 'u.sc', 'uacute', 'uacute.sc', 'ubreve', 'ubreve.sc', 'ucircumflex', 'ucircumflex.sc', 'udieresis', 'udieresis.sc', 'ugrave', 'ugrave.sc', 'uhorn', 'uhungarumlaut', 'uhungarumlaut.sc', 'umacron', 'umacron.sc', 'underscore', 'underscoredbl', 'uni00A0', 'uni00AD', 'uni00B2', 'uni00B3', 'uni00B5', 'uni00B9', 'uni0122', 'uni0123', 'uni0136', 'uni0137', 'uni013B', 'uni013C', 'uni0145', 'uni0146', 'uni0156', 'uni0157', 'uni0162', 'uni0163', 'uni0180', 'uni0181', 'uni0182', 'uni0183', 'uni0184', 'uni0185', 'uni0186', 'uni0187', 'uni0188', 'uni0189', 'uni018A', 'uni018B', 'uni018C', 'uni018D', 'uni018E', 'uni018F', 'uni0190', 'uni0191', 'uni0193', 'uni0194', 'uni0195', 'uni0196', 'uni0197', 'uni0198', 'uni0199', 'uni019A', 'uni019B', 'uni019C', 'uni019D', 'uni019E', 'uni019F', 'uni01A2', 'uni01A3', 'uni01A4', 'uni01A5', 'uni01A6', 'uni01A7', 'uni01A8', 'uni01A9', 'uni01AA', 'uni01AB', 'uni01AC', 'uni01AD', 'uni01AE', 'uni01B1', 'uni01B2', 'uni01B3', 'uni01B4', 'uni01B5', 'uni01B6', 'uni01B7', 'uni01B8', 'uni01B9', 'uni01BA', 'uni01BB', 'uni01BC', 'uni01BD', 'uni01BE', 'uni01BF', 'uni01C0', 'uni01C1', 'uni01C2', 'uni01C3', 'uni01C4', 'uni01C5', 'uni01C6', 'uni01C7', 'uni01C8', 'uni01C9', 'uni01CA', 'uni01CB', 'uni01CC', 'uni01CD', 'uni01CE', 'uni01CF', 'uni01D0', 'uni01D1', 'uni01D2', 'uni01D3', 'uni01D4', 'uni01D5', 'uni01D6', 'uni01D7', 'uni01D8', 'uni01D9', 'uni01DA', 'uni01DB', 'uni01DC', 'uni01DD', 'uni01DE', 'uni01DF', 'uni01E0', 'uni01E1', 'uni01E2', 'uni01E3', 'uni01E4', 'uni01E5', 'uni01E6', 'uni01E7', 'uni01E8', 'uni01E9', 'uni01EA', 'uni01EB', 'uni01EC', 'uni01ED', 'uni01EE', 'uni01EF', 'uni01F0', 'uni01F1', 'uni01F2', 'uni01F3', 'uni01F4', 'uni01F5', 'uni01F6', 'uni01F7', 'uni01F8', 'uni01F9', 'uni0200', 'uni0201', 'uni0202', 'uni0203', 'uni0204', 'uni0205', 'uni0206', 'uni0207', 'uni0208', 'uni0209', 'uni020A', 'uni020B', 'uni020C', 'uni020D', 'uni020E', 'uni020F', 'uni0210', 'uni0211', 'uni0212', 'uni0213', 'uni0214', 'uni0215', 'uni0216', 'uni0217', 'uni0218', 'uni0219', 'uni021A', 'uni021B', 'uni021C', 'uni021D', 'uni021E', 'uni021F', 'uni0220', 'uni0221', 'uni0222', 'uni0223', 'uni0224', 'uni0225', 'uni0226', 'uni0227', 'uni0228', 'uni0229', 'uni022A', 'uni022B', 'uni022C', 'uni022D', 'uni022E', 'uni022F', 'uni0230', 'uni0231', 'uni0232', 'uni0233', 'uni0234', 'uni0235', 'uni0236', 'uni0237', 'uni0238', 'uni0239', 'uni023A', 'uni023B', 'uni023C', 'uni023D', 'uni023E', 'uni023F', 'uni0240', 'uni0241', 'uni0242', 'uni0243', 'uni0244', 'uni0245', 'uni0246', 'uni0247', 'uni0248', 'uni0249', 'uni0249dotless', 'uni024A', 'uni024B', 'uni024C', 'uni024D', 'uni024E', 'uni024F', 'uni0250', 'uni0251', 'uni0252', 'uni0253', 'uni0254', 'uni0255', 'uni0256', 'uni0257', 'uni0258', 'uni0259', 'uni025A', 'uni025B', 'uni025C', 'uni025D', 'uni025E', 'uni025F', 'uni0260', 'uni0261', 'uni0262', 'uni0263', 'uni0264', 'uni0265', 'uni0266', 'uni0267', 'uni0268', 'uni026A', 'uni026B', 'uni026C', 'uni026D', 'uni026E', 'uni026F', 'uni0270', 'uni0271', 'uni0272', 'uni0273', 'uni0274', 'uni0275', 'uni0276', 'uni0278', 'uni0279', 'uni027A', 'uni027B', 'uni027C', 'uni027D', 'uni027E', 'uni027F', 'uni0280', 'uni0281', 'uni0282', 'uni0283', 'uni0284', 'uni0285', 'uni0286', 'uni0287', 'uni0288', 'uni0289', 'uni028A', 'uni028B', 'uni028C', 'uni028D', 'uni028E', 'uni028F', 'uni0290', 'uni0291', 'uni0292', 'uni0293', 'uni0294', 'uni0295', 'uni0297', 'uni0298', 'uni0299', 'uni029A', 'uni029B', 'uni029C', 'uni029D', 'uni029Ddotless', 'uni029E', 'uni029F', 'uni02A0', 'uni02A1', 'uni02A2', 'uni02A4', 'uni02A7', 'uni02A9', 'uni02AA', 'uni02AB', 'uni02AC', 'uni02AD', 'uni02AE', 'uni02AF', 'uni02B0', 'uni02B1', 'uni02B2', 'uni02B2dotless', 'uni02B3', 'uni02B4', 'uni02B5', 'uni02B6', 'uni02B7', 'uni02B8', 'uni02B9', 'uni02BA', 'uni02BB', 'uni02BC', 'uni02BD', 'uni02BE', 'uni02BF', 'uni02C0', 'uni02C1', 'uni02C2', 'uni02C3', 'uni02C4', 'uni02C5', 'uni02C8', 'uni02CA', 'uni02CB', 'uni02CC', 'uni02CD', 'uni02CE', 'uni02CF', 'uni02D0', 'uni02D1', 'uni02D2', 'uni02D3', 'uni02D4', 'uni02D5', 'uni02D6', 'uni02D7', 'uni02DE', 'uni02DF', 'uni02E0', 'uni02E1', 'uni02E2', 'uni02E3', 'uni02E4', 'uni02E5', 'uni02E5_uni02E5_uni02E6', 'uni02E5_uni02E5_uni02E7', 'uni02E5_uni02E5_uni02E8', 'uni02E5_uni02E5_uni02E9', 'uni02E5_uni02E6', 'uni02E5_uni02E6_uni02E5', 'uni02E5_uni02E6_uni02E6', 'uni02E5_uni02E6_uni02E7', 'uni02E5_uni02E6_uni02E8', 'uni02E5_uni02E6_uni02E9', 'uni02E5_uni02E7', 'uni02E5_uni02E7_uni02E5', 'uni02E5_uni02E7_uni02E6', 'uni02E5_uni02E7_uni02E7', 'uni02E5_uni02E7_uni02E8', 'uni02E5_uni02E7_uni02E9', 'uni02E5_uni02E8', 'uni02E5_uni02E8_uni02E5', 'uni02E5_uni02E8_uni02E6', 'uni02E5_uni02E8_uni02E7', 'uni02E5_uni02E8_uni02E8', 'uni02E5_uni02E8_uni02E9', 'uni02E5_uni02E9', 'uni02E5_uni02E9_uni02E5', 'uni02E5_uni02E9_uni02E6', 'uni02E5_uni02E9_uni02E7', 'uni02E5_uni02E9_uni02E8', 'uni02E5_uni02E9_uni02E9', 'uni02E6', 'uni02E6_uni02E5', 'uni02E6_uni02E5_uni02E5', 'uni02E6_uni02E5_uni02E6', 'uni02E6_uni02E5_uni02E7', 'uni02E6_uni02E5_uni02E8', 'uni02E6_uni02E5_uni02E9', 'uni02E6_uni02E6_uni02E5', 'uni02E6_uni02E6_uni02E7', 'uni02E6_uni02E6_uni02E8', 'uni02E6_uni02E6_uni02E9', 'uni02E6_uni02E7', 'uni02E6_uni02E7_uni02E5', 'uni02E6_uni02E7_uni02E6', 'uni02E6_uni02E7_uni02E7', 'uni02E6_uni02E7_uni02E8', 'uni02E6_uni02E7_uni02E9', 'uni02E6_uni02E8', 'uni02E6_uni02E8_uni02E5', 'uni02E6_uni02E8_uni02E6', 'uni02E6_uni02E8_uni02E7', 'uni02E6_uni02E8_uni02E8', 'uni02E6_uni02E8_uni02E9', 'uni02E6_uni02E9', 'uni02E6_uni02E9_uni02E5', 'uni02E6_uni02E9_uni02E6', 'uni02E6_uni02E9_uni02E7', 'uni02E6_uni02E9_uni02E8', 'uni02E6_uni02E9_uni02E9', 'uni02E7', 'uni02E7_uni02E5', 'uni02E7_uni02E5_uni02E5', 'uni02E7_uni02E5_uni02E6', 'uni02E7_uni02E5_uni02E7', 'uni02E7_uni02E5_uni02E8', 'uni02E7_uni02E5_uni02E9', 'uni02E7_uni02E6', 'uni02E7_uni02E6_uni02E5', 'uni02E7_uni02E6_uni02E6', 'uni02E7_uni02E6_uni02E7', 'uni02E7_uni02E6_uni02E8', 'uni02E7_uni02E6_uni02E9', 'uni02E7_uni02E7_uni02E5', 'uni02E7_uni02E7_uni02E6', 'uni02E7_uni02E7_uni02E8', 'uni02E7_uni02E7_uni02E9', 'uni02E7_uni02E8', 'uni02E7_uni02E8_uni02E5', 'uni02E7_uni02E8_uni02E6', 'uni02E7_uni02E8_uni02E7', 'uni02E7_uni02E8_uni02E8', 'uni02E7_uni02E8_uni02E9', 'uni02E7_uni02E9', 'uni02E7_uni02E9_uni02E5', 'uni02E7_uni02E9_uni02E6', 'uni02E7_uni02E9_uni02E7', 'uni02E7_uni02E9_uni02E8', 'uni02E7_uni02E9_uni02E9', 'uni02E8', 'uni02E8_uni02E5', 'uni02E8_uni02E5_uni02E5', 'uni02E8_uni02E5_uni02E6', 'uni02E8_uni02E5_uni02E7', 'uni02E8_uni02E5_uni02E8', 'uni02E8_uni02E5_uni02E9', 'uni02E8_uni02E6', 'uni02E8_uni02E6_uni02E5', 'uni02E8_uni02E6_uni02E6', 'uni02E8_uni02E6_uni02E7', 'uni02E8_uni02E6_uni02E8', 'uni02E8_uni02E6_uni02E9', 'uni02E8_uni02E7', 'uni02E8_uni02E7_uni02E5', 'uni02E8_uni02E7_uni02E6', 'uni02E8_uni02E7_uni02E7', 'uni02E8_uni02E7_uni02E8', 'uni02E8_uni02E7_uni02E9', 'uni02E8_uni02E8_uni02E5', 'uni02E8_uni02E8_uni02E6', 'uni02E8_uni02E8_uni02E7', 'uni02E8_uni02E8_uni02E9', 'uni02E8_uni02E9', 'uni02E8_uni02E9_uni02E5', 'uni02E8_uni02E9_uni02E6', 'uni02E8_uni02E9_uni02E7', 'uni02E8_uni02E9_uni02E8', 'uni02E8_uni02E9_uni02E9', 'uni02E9', 'uni02E9_uni02E5', 'uni02E9_uni02E5_uni02E5', 'uni02E9_uni02E5_uni02E6', 'uni02E9_uni02E5_uni02E7', 'uni02E9_uni02E5_uni02E8', 'uni02E9_uni02E5_uni02E9', 'uni02E9_uni02E6', 'uni02E9_uni02E6_uni02E5', 'uni02E9_uni02E6_uni02E6', 'uni02E9_uni02E6_uni02E7', 'uni02E9_uni02E6_uni02E8', 'uni02E9_uni02E6_uni02E9', 'uni02E9_uni02E7', 'uni02E9_uni02E7_uni02E5', 'uni02E9_uni02E7_uni02E6', 'uni02E9_uni02E7_uni02E7', 'uni02E9_uni02E7_uni02E8', 'uni02E9_uni02E7_uni02E9', 'uni02E9_uni02E8', 'uni02E9_uni02E8_uni02E5', 'uni02E9_uni02E8_uni02E6', 'uni02E9_uni02E8_uni02E7', 'uni02E9_uni02E8_uni02E8', 'uni02E9_uni02E8_uni02E9', 'uni02E9_uni02E9_uni02E5', 'uni02E9_uni02E9_uni02E6', 'uni02E9_uni02E9_uni02E7', 'uni02E9_uni02E9_uni02E8', 'uni02EA', 'uni02EB', 'uni02EC', 'uni02ED', 'uni02EE', 'uni02EF', 'uni02F0', 'uni02F1', 'uni02F2', 'uni02F3', 'uni02F4', 'uni02F5', 'uni02F6', 'uni02F7', 'uni02F8', 'uni02F9', 'uni02FA', 'uni02FB', 'uni02FC', 'uni02FD', 'uni02FE', 'uni02FF', 'uni030003040308', 'uni030003060308', 'uni030103040308', 'uni030103060308', 'uni0302', 'uni0304', 'uni0306', 'uni0307', 'uni0308', 'uni030A', 'uni030B', 'uni030C', 'uni030D', 'uni030E', 'uni030F', 'uni0310', 'uni0311', 'uni0312', 'uni0313', 'uni0314', 'uni0315', 'uni0316', 'uni0317', 'uni0318', 'uni0319', 'uni031A', 'uni031B', 'uni031C', 'uni031D', 'uni031E', 'uni031F', 'uni0320', 'uni0324', 'uni0325', 'uni0327', 'uni0328', 'uni0329', 'uni032A', 'uni032B', 'uni032C', 'uni032D', 'uni032E', 'uni032F', 'uni0330', 'uni0331', 'uni0332', 'uni0333', 'uni0334', 'uni0339', 'uni033A', 'uni033B', 'uni033C', 'uni033D', 'uni033E', 'uni033F', 'uni0340', 'uni0341', 'uni0342', 'uni0343', 'uni0344', 'uni0345', 'uni0346', 'uni0347', 'uni0348', 'uni0349', 'uni034A', 'uni034B', 'uni034C', 'uni034D', 'uni034E', 'uni034F', 'uni0350', 'uni0351', 'uni0352', 'uni0353', 'uni0354', 'uni0355', 'uni0356', 'uni0357', 'uni0358', 'uni0359', 'uni035A', 'uni035B', 'uni035C', 'uni035D', 'uni035E', 'uni035F', 'uni0360', 'uni0361', 'uni0362', 'uni0363', 'uni0364', 'uni0365', 'uni0366', 'uni0367', 'uni0368', 'uni0369', 'uni036A', 'uni036B', 'uni036C', 'uni036D', 'uni036E', 'uni036F', 'uni0370', 'uni0371', 'uni0372', 'uni0373', 'uni0374', 'uni0375', 'uni0376', 'uni0377', 'uni037A', 'uni037B', 'uni037C', 'uni037D', 'uni037E', 'uni037F', 'uni0394', 'uni03A9', 'uni03B1030403130300', 'uni03B1030403130301', 'uni03B1030403140300', 'uni03B1030403140301', 'uni03B1030603130300', 'uni03B1030603130301', 'uni03B1030603140300', 'uni03B1030603140301', 'uni03B9030403130300', 'uni03B9030403130301', 'uni03B9030403140300', 'uni03B9030403140301', 'uni03B9030603130300', 'uni03B9030603130301', 'uni03B9030603140300', 'uni03B9030603140301', 'uni03B9030803040300', 'uni03B9030803040301', 'uni03B9030803060300', 'uni03B9030803060301', 'uni03BC', 'uni03C5030403130300', 'uni03C5030403130301', 'uni03C5030403140300', 'uni03C5030403140301', 'uni03C5030603130300', 'uni03C5030603130301', 'uni03C5030603140300', 'uni03C5030603140301', 'uni03C5030803040300', 'uni03C5030803040301', 'uni03C5030803060300', 'uni03C5030803060301', 'uni03CF', 'uni03D0', 'uni03D0.alt', 'uni03D1', 'uni03D2', 'uni03D3', 'uni03D4', 'uni03D6', 'uni03D7', 'uni03D8', 'uni03D9', 'uni03DA', 'uni03DB', 'uni03DC', 'uni03DD', 'uni03DE', 'uni03DF', 'uni03E0', 'uni03E1', 'uni03F0', 'uni03F1', 'uni03F2', 'uni03F3', 'uni03F3dotless', 'uni03F4', 'uni03F5', 'uni03F6', 'uni03F7', 'uni03F8', 'uni03F9', 'uni03FA', 'uni03FB', 'uni03FC', 'uni03FD', 'uni03FE', 'uni03FF', 'uni0400', 'uni040D', 'uni0450', 'uni045D', 'uni0460', 'uni0461', 'uni0462', 'uni0463', 'uni0464', 'uni0465', 'uni0466', 'uni0467', 'uni0468', 'uni0469', 'uni046A', 'uni046B', 'uni046C', 'uni046D', 'uni046E', 'uni046F', 'uni0470', 'uni0471', 'uni0472', 'uni0473', 'uni0474', 'uni0475', 'uni0476', 'uni0477', 'uni0478', 'uni0479', 'uni047A', 'uni047B', 'uni047C', 'uni047D', 'uni047E', 'uni047F', 'uni0480', 'uni0481', 'uni0482', 'uni0483', 'uni0484', 'uni0485', 'uni0486', 'uni0487', 'uni0488', 'uni0489', 'uni048A', 'uni048B', 'uni048C', 'uni048D', 'uni048E', 'uni048F', 'uni0492', 'uni0493', 'uni0494', 'uni0495', 'uni0496', 'uni0497', 'uni0498', 'uni0499', 'uni049A', 'uni049B', 'uni049C', 'uni049D', 'uni049E', 'uni049F', 'uni04A0', 'uni04A1', 'uni04A2', 'uni04A3', 'uni04A4', 'uni04A5', 'uni04A6', 'uni04A7', 'uni04A8', 'uni04A9', 'uni04AA', 'uni04AB', 'uni04AC', 'uni04AD', 'uni04AE', 'uni04AF', 'uni04B0', 'uni04B1', 'uni04B2', 'uni04B3', 'uni04B4', 'uni04B5', 'uni04B6', 'uni04B7', 'uni04B8', 'uni04B9', 'uni04BA', 'uni04BB', 'uni04BC', 'uni04BD', 'uni04BE', 'uni04BF', 'uni04C0', 'uni04C1', 'uni04C2', 'uni04C3', 'uni04C4', 'uni04C5', 'uni04C6', 'uni04C7', 'uni04C8', 'uni04C9', 'uni04CA', 'uni04CB', 'uni04CC', 'uni04CD', 'uni04CE', 'uni04CF', 'uni04D0', 'uni04D1', 'uni04D2', 'uni04D3', 'uni04D4', 'uni04D5', 'uni04D6', 'uni04D7', 'uni04D8', 'uni04D9', 'uni04DA', 'uni04DB', 'uni04DC', 'uni04DD', 'uni04DE', 'uni04DF', 'uni04E0', 'uni04E1', 'uni04E2', 'uni04E3', 'uni04E4', 'uni04E5', 'uni04E6', 'uni04E7', 'uni04E8', 'uni04E9', 'uni04EA', 'uni04EB', 'uni04EC', 'uni04ED', 'uni04EE', 'uni04EF', 'uni04F0', 'uni04F1', 'uni04F2', 'uni04F3', 'uni04F4', 'uni04F5', 'uni04F6', 'uni04F7', 'uni04F8', 'uni04F9', 'uni04FA', 'uni04FB', 'uni04FC', 'uni04FD', 'uni04FE', 'uni04FF', 'uni0500', 'uni0501', 'uni0502', 'uni0503', 'uni0504', 'uni0505', 'uni0506', 'uni0507', 'uni0508', 'uni0509', 'uni050A', 'uni050B', 'uni050C', 'uni050D', 'uni050E', 'uni050F', 'uni0510', 'uni0511', 'uni0512', 'uni0513', 'uni0514', 'uni0515', 'uni0516', 'uni0517', 'uni0518', 'uni0519', 'uni051A', 'uni051B', 'uni051C', 'uni051D', 'uni051E', 'uni051F', 'uni0520', 'uni0521', 'uni0522', 'uni0523', 'uni0524', 'uni0525', 'uni0526', 'uni0527', 'uni0528', 'uni0529', 'uni052A', 'uni052B', 'uni052C', 'uni052D', 'uni052E', 'uni052F', 'uni1AB0', 'uni1AB1', 'uni1AB2', 'uni1AB3', 'uni1AB4', 'uni1AB5', 'uni1AB6', 'uni1AB7', 'uni1AB8', 'uni1AB9', 'uni1ABA', 'uni1ABB', 'uni1ABC', 'uni1ABD', 'uni1ABE', 'uni1C80', 'uni1C81', 'uni1C82', 'uni1C83', 'uni1C84', 'uni1C85', 'uni1C86', 'uni1C87', 'uni1C88', 'uni1D00', 'uni1D01', 'uni1D02', 'uni1D03', 'uni1D04', 'uni1D05', 'uni1D06', 'uni1D07', 'uni1D08', 'uni1D09', 'uni1D0A', 'uni1D0B', 'uni1D0C', 'uni1D0D', 'uni1D0E', 'uni1D0F', 'uni1D10', 'uni1D11', 'uni1D12', 'uni1D13', 'uni1D14', 'uni1D15', 'uni1D16', 'uni1D17', 'uni1D18', 'uni1D19', 'uni1D1A', 'uni1D1B', 'uni1D1C', 'uni1D1D', 'uni1D1E', 'uni1D1F', 'uni1D20', 'uni1D21', 'uni1D22', 'uni1D23', 'uni1D24', 'uni1D25', 'uni1D26', 'uni1D27', 'uni1D28', 'uni1D29', 'uni1D2A', 'uni1D2B', 'uni1D2C', 'uni1D2D', 'uni1D2E', 'uni1D2F', 'uni1D30', 'uni1D31', 'uni1D32', 'uni1D33', 'uni1D34', 'uni1D35', 'uni1D36', 'uni1D37', 'uni1D38', 'uni1D39', 'uni1D3A', 'uni1D3B', 'uni1D3C', 'uni1D3D', 'uni1D3E', 'uni1D3F', 'uni1D40', 'uni1D41', 'uni1D42', 'uni1D43', 'uni1D44', 'uni1D45', 'uni1D46', 'uni1D47', 'uni1D48', 'uni1D49', 'uni1D4A', 'uni1D4B', 'uni1D4C', 'uni1D4D', 'uni1D4E', 'uni1D4F', 'uni1D50', 'uni1D51', 'uni1D52', 'uni1D53', 'uni1D54', 'uni1D55', 'uni1D56', 'uni1D57', 'uni1D58', 'uni1D59', 'uni1D5A', 'uni1D5B', 'uni1D5C', 'uni1D5D', 'uni1D5E', 'uni1D5F', 'uni1D60', 'uni1D61', 'uni1D62', 'uni1D62dotless', 'uni1D63', 'uni1D64', 'uni1D65', 'uni1D66', 'uni1D67', 'uni1D68', 'uni1D69', 'uni1D6A', 'uni1D6B', 'uni1D6C', 'uni1D6D', 'uni1D6E', 'uni1D6F', 'uni1D70', 'uni1D71', 'uni1D72', 'uni1D73', 'uni1D74', 'uni1D75', 'uni1D76', 'uni1D77', 'uni1D78', 'uni1D79', 'uni1D7A', 'uni1D7B', 'uni1D7C', 'uni1D7D', 'uni1D7E', 'uni1D7F', 'uni1D80', 'uni1D81', 'uni1D82', 'uni1D83', 'uni1D84', 'uni1D85', 'uni1D86', 'uni1D87', 'uni1D88', 'uni1D89', 'uni1D8A', 'uni1D8B', 'uni1D8C', 'uni1D8D', 'uni1D8E', 'uni1D8F', 'uni1D90', 'uni1D91', 'uni1D92', 'uni1D93', 'uni1D94', 'uni1D95', 'uni1D96', 'uni1D96dotless', 'uni1D97', 'uni1D98', 'uni1D99', 'uni1D9A', 'uni1D9B', 'uni1D9C', 'uni1D9D', 'uni1D9E', 'uni1D9F', 'uni1DA0', 'uni1DA1', 'uni1DA2', 'uni1DA3', 'uni1DA4', 'uni1DA4dotless', 'uni1DA5', 'uni1DA6', 'uni1DA7', 'uni1DA8', 'uni1DA8dotless', 'uni1DA9', 'uni1DAA', 'uni1DAB', 'uni1DAC', 'uni1DAD', 'uni1DAE', 'uni1DAF', 'uni1DB0', 'uni1DB1', 'uni1DB2', 'uni1DB3', 'uni1DB4', 'uni1DB5', 'uni1DB6', 'uni1DB7', 'uni1DB8', 'uni1DB9', 'uni1DBA', 'uni1DBB', 'uni1DBC', 'uni1DBD', 'uni1DBE', 'uni1DBF', 'uni1DC4', 'uni1DC6', 'uni1DCA', 'uni1DD0', 'uni1DD4', 'uni1DD5', 'uni1DD6', 'uni1DD7', 'uni1DD8', 'uni1DD9', 'uni1DDA', 'uni1DDB', 'uni1DDC', 'uni1DDD', 'uni1DDE', 'uni1DDF', 'uni1DE0', 'uni1DE1', 'uni1DE2', 'uni1DE3', 'uni1DE4', 'uni1DE5', 'uni1DE6', 'uni1DE7', 'uni1DE8', 'uni1DE9', 'uni1DEA', 'uni1DEB', 'uni1DEC', 'uni1DED', 'uni1DEE', 'uni1DEF', 'uni1DF0', 'uni1DF1', 'uni1DF2', 'uni1DF3', 'uni1DF4', 'uni1DF5', 'uni1DFB', 'uni1DFC', 'uni1DFD', 'uni1DFE', 'uni1DFF', 'uni1E00', 'uni1E01', 'uni1E02', 'uni1E03', 'uni1E04', 'uni1E05', 'uni1E06', 'uni1E07', 'uni1E08', 'uni1E09', 'uni1E0A', 'uni1E0B', 'uni1E0C', 'uni1E0D', 'uni1E0E', 'uni1E0F', 'uni1E10', 'uni1E11', 'uni1E12', 'uni1E13', 'uni1E14', 'uni1E15', 'uni1E16', 'uni1E17', 'uni1E18', 'uni1E19', 'uni1E1A', 'uni1E1B', 'uni1E1C', 'uni1E1D', 'uni1E1E', 'uni1E1F', 'uni1E20', 'uni1E21', 'uni1E22', 'uni1E23', 'uni1E24', 'uni1E25', 'uni1E26', 'uni1E27', 'uni1E28', 'uni1E29', 'uni1E2A', 'uni1E2B', 'uni1E2C', 'uni1E2D', 'uni1E2Ddotless', 'uni1E2E', 'uni1E2F', 'uni1E30', 'uni1E31', 'uni1E32', 'uni1E33', 'uni1E34', 'uni1E35', 'uni1E36', 'uni1E37', 'uni1E38', 'uni1E39', 'uni1E3A', 'uni1E3B', 'uni1E3C', 'uni1E3D', 'uni1E3E', 'uni1E3F', 'uni1E40', 'uni1E41', 'uni1E42', 'uni1E43', 'uni1E44', 'uni1E45', 'uni1E46', 'uni1E47', 'uni1E48', 'uni1E49', 'uni1E4A', 'uni1E4B', 'uni1E4C', 'uni1E4D', 'uni1E4E', 'uni1E4F', 'uni1E50', 'uni1E51', 'uni1E52', 'uni1E53', 'uni1E54', 'uni1E55', 'uni1E56', 'uni1E57', 'uni1E58', 'uni1E59', 'uni1E5A', 'uni1E5B', 'uni1E5C', 'uni1E5D', 'uni1E5E', 'uni1E5F', 'uni1E60', 'uni1E61', 'uni1E62', 'uni1E63', 'uni1E64', 'uni1E65', 'uni1E66', 'uni1E67', 'uni1E68', 'uni1E69', 'uni1E6A', 'uni1E6B', 'uni1E6C', 'uni1E6D', 'uni1E6E', 'uni1E6F', 'uni1E70', 'uni1E71', 'uni1E72', 'uni1E73', 'uni1E74', 'uni1E75', 'uni1E76', 'uni1E77', 'uni1E78', 'uni1E79', 'uni1E7A', 'uni1E7B', 'uni1E7C', 'uni1E7D', 'uni1E7E', 'uni1E7F', 'uni1E86', 'uni1E87', 'uni1E88', 'uni1E89', 'uni1E8A', 'uni1E8B', 'uni1E8C', 'uni1E8D', 'uni1E8E', 'uni1E8F', 'uni1E90', 'uni1E91', 'uni1E92', 'uni1E93', 'uni1E94', 'uni1E95', 'uni1E96', 'uni1E97', 'uni1E98', 'uni1E99', 'uni1E9A', 'uni1E9B', 'uni1E9C', 'uni1E9D', 'uni1E9E', 'uni1EA0', 'uni1EA1', 'uni1EA2', 'uni1EA3', 'uni1EA4', 'uni1EA5', 'uni1EA6', 'uni1EA7', 'uni1EA8', 'uni1EA9', 'uni1EAA', 'uni1EAB', 'uni1EAC', 'uni1EAD', 'uni1EAE', 'uni1EAF', 'uni1EB0', 'uni1EB1', 'uni1EB2', 'uni1EB3', 'uni1EB4', 'uni1EB5', 'uni1EB6', 'uni1EB7', 'uni1EB8', 'uni1EB9', 'uni1EBA', 'uni1EBB', 'uni1EBC', 'uni1EBD', 'uni1EBE', 'uni1EBF', 'uni1EC0', 'uni1EC1', 'uni1EC2', 'uni1EC3', 'uni1EC4', 'uni1EC5', 'uni1EC6', 'uni1EC7', 'uni1EC8', 'uni1EC9', 'uni1ECA', 'uni1ECB', 'uni1ECBdotless', 'uni1ECC', 'uni1ECD', 'uni1ECE', 'uni1ECF', 'uni1ED0', 'uni1ED1', 'uni1ED2', 'uni1ED3', 'uni1ED4', 'uni1ED5', 'uni1ED6', 'uni1ED7', 'uni1ED8', 'uni1ED9', 'uni1EDA', 'uni1EDB', 'uni1EDC', 'uni1EDD', 'uni1EDE', 'uni1EDF', 'uni1EE0', 'uni1EE1', 'uni1EE2', 'uni1EE3', 'uni1EE4', 'uni1EE5', 'uni1EE6', 'uni1EE7', 'uni1EE8', 'uni1EE9', 'uni1EEA', 'uni1EEB', 'uni1EEC', 'uni1EED', 'uni1EEE', 'uni1EEF', 'uni1EF0', 'uni1EF1', 'uni1EF4', 'uni1EF5', 'uni1EF6', 'uni1EF7', 'uni1EF8', 'uni1EF9', 'uni1EFA', 'uni1EFB', 'uni1EFC', 'uni1EFD', 'uni1EFE', 'uni1EFF', 'uni1F00', 'uni1F01', 'uni1F02', 'uni1F03', 'uni1F04', 'uni1F05', 'uni1F06', 'uni1F07', 'uni1F08', 'uni1F09', 'uni1F0A', 'uni1F0B', 'uni1F0C', 'uni1F0D', 'uni1F0E', 'uni1F0F', 'uni1F10', 'uni1F11', 'uni1F12', 'uni1F13', 'uni1F14', 'uni1F15', 'uni1F18', 'uni1F19', 'uni1F1A', 'uni1F1B', 'uni1F1C', 'uni1F1D', 'uni1F20', 'uni1F21', 'uni1F22', 'uni1F23', 'uni1F24', 'uni1F25', 'uni1F26', 'uni1F27', 'uni1F28', 'uni1F29', 'uni1F2A', 'uni1F2B', 'uni1F2C', 'uni1F2D', 'uni1F2E', 'uni1F2F', 'uni1F30', 'uni1F31', 'uni1F32', 'uni1F33', 'uni1F34', 'uni1F35', 'uni1F36', 'uni1F37', 'uni1F38', 'uni1F39', 'uni1F3A', 'uni1F3B', 'uni1F3C', 'uni1F3D', 'uni1F3E', 'uni1F3F', 'uni1F40', 'uni1F41', 'uni1F42', 'uni1F43', 'uni1F44', 'uni1F45', 'uni1F48', 'uni1F49', 'uni1F4A', 'uni1F4B', 'uni1F4C', 'uni1F4D', 'uni1F50', 'uni1F51', 'uni1F52', 'uni1F53', 'uni1F54', 'uni1F55', 'uni1F56', 'uni1F57', 'uni1F59', 'uni1F5B', 'uni1F5D', 'uni1F5F', 'uni1F60', 'uni1F61', 'uni1F62', 'uni1F63', 'uni1F64', 'uni1F65', 'uni1F66', 'uni1F67', 'uni1F68', 'uni1F69', 'uni1F6A', 'uni1F6B', 'uni1F6C', 'uni1F6D', 'uni1F6E', 'uni1F6F', 'uni1F70', 'uni1F71', 'uni1F72', 'uni1F73', 'uni1F74', 'uni1F75', 'uni1F76', 'uni1F77', 'uni1F78', 'uni1F79', 'uni1F7A', 'uni1F7B', 'uni1F7C', 'uni1F7D', 'uni1F80', 'uni1F81', 'uni1F82', 'uni1F83', 'uni1F84', 'uni1F85', 'uni1F86', 'uni1F87', 'uni1F88', 'uni1F89', 'uni1F8A', 'uni1F8B', 'uni1F8C', 'uni1F8D', 'uni1F8E', 'uni1F8F', 'uni1F90', 'uni1F91', 'uni1F92', 'uni1F93', 'uni1F94', 'uni1F95', 'uni1F96', 'uni1F97', 'uni1F98', 'uni1F99', 'uni1F9A', 'uni1F9B', 'uni1F9C', 'uni1F9D', 'uni1F9E', 'uni1F9F', 'uni1FA0', 'uni1FA1', 'uni1FA2', 'uni1FA3', 'uni1FA4', 'uni1FA5', 'uni1FA6', 'uni1FA7', 'uni1FA8', 'uni1FA9', 'uni1FAA', 'uni1FAB', 'uni1FAC', 'uni1FAD', 'uni1FAE', 'uni1FAF', 'uni1FB0', 'uni1FB1', 'uni1FB2', 'uni1FB3', 'uni1FB4', 'uni1FB6', 'uni1FB7', 'uni1FB8', 'uni1FB9', 'uni1FBA', 'uni1FBB', 'uni1FBC', 'uni1FBD', 'uni1FBE', 'uni1FBF', 'uni1FC0', 'uni1FC1', 'uni1FC2', 'uni1FC3', 'uni1FC4', 'uni1FC6', 'uni1FC7', 'uni1FC8', 'uni1FC9', 'uni1FCA', 'uni1FCB', 'uni1FCC', 'uni1FCD', 'uni1FCD02C9', 'uni1FCD0306', 'uni1FCE', 'uni1FCE02C9', 'uni1FCE0306', 'uni1FCF', 'uni1FD0', 'uni1FD1', 'uni1FD2', 'uni1FD3', 'uni1FD6', 'uni1FD7', 'uni1FD8', 'uni1FD9', 'uni1FDA', 'uni1FDB', 'uni1FDD', 'uni1FDD02C9', 'uni1FDD0306', 'uni1FDE', 'uni1FDE02C9', 'uni1FDE0306', 'uni1FDF', 'uni1FE0', 'uni1FE1', 'uni1FE2', 'uni1FE3', 'uni1FE4', 'uni1FE5', 'uni1FE6', 'uni1FE7', 'uni1FE8', 'uni1FE9', 'uni1FEA', 'uni1FEB', 'uni1FEC', 'uni1FED', 'uni1FEE', 'uni1FEF', 'uni1FF2', 'uni1FF3', 'uni1FF4', 'uni1FF6', 'uni1FF7', 'uni1FF8', 'uni1FF9', 'uni1FFA', 'uni1FFB', 'uni1FFC', 'uni1FFD', 'uni1FFE', 'uni2000', 'uni2001', 'uni2002', 'uni2003', 'uni2004', 'uni2005', 'uni2006', 'uni2007', 'uni2008', 'uni2009', 'uni200A', 'uni200B', 'uni200C', 'uni200D', 'uni200E', 'uni200F', 'uni2010', 'uni2011', 'uni2012', 'uni2016', 'uni201F', 'uni2023', 'uni2027', 'uni2028', 'uni2029', 'uni202A', 'uni202B', 'uni202C', 'uni202D', 'uni202E', 'uni202F', 'uni2031', 'uni2034', 'uni2035', 'uni2036', 'uni2037', 'uni203B', 'uni203D', 'uni203E', 'uni203F', 'uni2040', 'uni2041', 'uni2042', 'uni2043', 'uni2045', 'uni2046', 'uni2047', 'uni2048', 'uni2049', 'uni204A', 'uni204C', 'uni204D', 'uni204E', 'uni204F', 'uni2050', 'uni2051', 'uni2052', 'uni2053', 'uni2054', 'uni2055', 'uni2056', 'uni2057', 'uni2058', 'uni2059', 'uni205A', 'uni205B', 'uni205C', 'uni205D', 'uni205E', 'uni205F', 'uni2060', 'uni2061', 'uni2062', 'uni2063', 'uni2064', 'uni2066', 'uni2067', 'uni2068', 'uni2069', 'uni206A', 'uni206B', 'uni206C', 'uni206D', 'uni206E', 'uni206F', 'uni2070', 'uni2071', 'uni2074', 'uni2075', 'uni2076', 'uni2077', 'uni2078', 'uni2079', 'uni207A', 'uni207B', 'uni207C', 'uni207D', 'uni207E', 'uni2080', 'uni2081', 'uni2082', 'uni2083', 'uni2084', 'uni2085', 'uni2086', 'uni2087', 'uni2088', 'uni2089', 'uni208A', 'uni208B', 'uni208C', 'uni208D', 'uni208E', 'uni2090', 'uni2091', 'uni2092', 'uni2093', 'uni2094', 'uni2095', 'uni2096', 'uni2097', 'uni2098', 'uni2099', 'uni209A', 'uni209B', 'uni209C', 'uni20A0', 'uni20A1', 'uni20A2', 'uni20A5', 'uni20A6', 'uni20A8', 'uni20A9', 'uni20AA', 'uni20AB', 'uni20AD', 'uni20AE', 'uni20AF', 'uni20B0', 'uni20B1', 'uni20B2', 'uni20B3', 'uni20B4', 'uni20B5', 'uni20B6', 'uni20B7', 'uni20B8', 'uni20B9', 'uni20BA', 'uni20BB', 'uni20BC', 'uni20BD', 'uni20BE', 'uni20BF', 'uni20F0', 'uni2100', 'uni2101', 'uni2103', 'uni2104', 'uni2106', 'uni2107', 'uni2108', 'uni2109', 'uni210B', 'uni210E', 'uni210F', 'uni2110', 'uni2112', 'uni2114', 'uni2117', 'uni211B', 'uni211F', 'uni2120', 'uni2121', 'uni2123', 'uni2125', 'uni2126', 'uni2127', 'uni2129', 'uni212A', 'uni212B', 'uni212C', 'uni2130', 'uni2131', 'uni2133', 'uni2135', 'uni2136', 'uni2137', 'uni2138', 'uni2139', 'uni213B', 'uni214A', 'uni214B', 'uni214C', 'uni214D', 'uni214E', 'uni2150', 'uni2151', 'uni2152', 'uni2153', 'uni2154', 'uni2155', 'uni2156', 'uni2157', 'uni2158', 'uni2159', 'uni215A', 'uni215F', 'uni2184', 'uni2189', 'uni2C60', 'uni2C61', 'uni2C62', 'uni2C63', 'uni2C64', 'uni2C65', 'uni2C66', 'uni2C67', 'uni2C68', 'uni2C69', 'uni2C6A', 'uni2C6B', 'uni2C6C', 'uni2C6D', 'uni2C6E', 'uni2C70', 'uni2C71', 'uni2C72', 'uni2C73', 'uni2C74', 'uni2C75', 'uni2C76', 'uni2C77', 'uni2C78', 'uni2C79', 'uni2C7A', 'uni2C7D', 'uni2C7E', 'uni2C7F', 'uni2DE0', 'uni2DE1', 'uni2DE2', 'uni2DE3', 'uni2DE4', 'uni2DE5', 'uni2DE6', 'uni2DE7', 'uni2DE8', 'uni2DE9', 'uni2DEA', 'uni2DEB', 'uni2DEC', 'uni2DED', 'uni2DEE', 'uni2DEF', 'uni2DF0', 'uni2DF1', 'uni2DF2', 'uni2DF3', 'uni2DF4', 'uni2DF5', 'uni2DF6', 'uni2DF7', 'uni2DF8', 'uni2DF9', 'uni2DFA', 'uni2DFB', 'uni2DFC', 'uni2DFD', 'uni2DFE', 'uni2DFF', 'uni2E00', 'uni2E01', 'uni2E02', 'uni2E03', 'uni2E04', 'uni2E05', 'uni2E06', 'uni2E07', 'uni2E08', 'uni2E09', 'uni2E0A', 'uni2E0B', 'uni2E0C', 'uni2E0D', 'uni2E0E', 'uni2E0F', 'uni2E10', 'uni2E11', 'uni2E12', 'uni2E13', 'uni2E16', 'uni2E17', 'uni2E18', 'uni2E19', 'uni2E1A', 'uni2E1B', 'uni2E1C', 'uni2E1D', 'uni2E1E', 'uni2E1F', 'uni2E20', 'uni2E21', 'uni2E26', 'uni2E27', 'uni2E2D', 'uni2E2F', 'uni2E30', 'uni2E31', 'uni2E32', 'uni2E33', 'uni2E34', 'uni2E35', 'uni2E36', 'uni2E37', 'uni2E38', 'uni2E39', 'uni2E3A', 'uni2E3B', 'uni2E3C', 'uni2E3D', 'uni2E3E', 'uni2E3F', 'uni2E40', 'uni2E41', 'uni2E42', 'uni2E43', 'uni2E44', 'uniA640', 'uniA641', 'uniA642', 'uniA643', 'uniA644', 'uniA645', 'uniA646', 'uniA647', 'uniA648', 'uniA649', 'uniA64A', 'uniA64B', 'uniA64C', 'uniA64D', 'uniA64E', 'uniA64F', 'uniA650', 'uniA651', 'uniA652', 'uniA653', 'uniA654', 'uniA655', 'uniA656', 'uniA657', 'uniA658', 'uniA659', 'uniA65A', 'uniA65B', 'uniA65C', 'uniA65D', 'uniA65E', 'uniA65F', 'uniA660', 'uniA661', 'uniA662', 'uniA663', 'uniA664', 'uniA665', 'uniA666', 'uniA667', 'uniA668', 'uniA669', 'uniA66A', 'uniA66B', 'uniA66C', 'uniA66D', 'uniA66E', 'uniA66F', 'uniA670', 'uniA671', 'uniA672', 'uniA673', 'uniA674', 'uniA675', 'uniA676', 'uniA677', 'uniA678', 'uniA679', 'uniA67A', 'uniA67B', 'uniA67C', 'uniA67D', 'uniA67E', 'uniA67F', 'uniA680', 'uniA681', 'uniA682', 'uniA683', 'uniA684', 'uniA685', 'uniA686', 'uniA687', 'uniA688', 'uniA689', 'uniA68A', 'uniA68B', 'uniA68C', 'uniA68D', 'uniA68E', 'uniA68F', 'uniA690', 'uniA691', 'uniA692', 'uniA693', 'uniA694', 'uniA695', 'uniA696', 'uniA697', 'uniA698', 'uniA699', 'uniA69A', 'uniA69B', 'uniA69C', 'uniA69D', 'uniA69E', 'uniA69F', 'uniA700', 'uniA701', 'uniA702', 'uniA703', 'uniA704', 'uniA705', 'uniA706', 'uniA707', 'uniA708', 'uniA709', 'uniA70A', 'uniA70B', 'uniA70C', 'uniA70D', 'uniA70E', 'uniA70F', 'uniA710', 'uniA711', 'uniA712', 'uniA713', 'uniA714', 'uniA715', 'uniA716', 'uniA717', 'uniA718', 'uniA719', 'uniA71A', 'uniA71B', 'uniA71C', 'uniA71D', 'uniA71E', 'uniA71F', 'uniA720', 'uniA721', 'uniA722', 'uniA723', 'uniA724', 'uniA725', 'uniA726', 'uniA727', 'uniA728', 'uniA729', 'uniA72A', 'uniA72B', 'uniA72C', 'uniA72D', 'uniA72E', 'uniA72F', 'uniA730', 'uniA731', 'uniA732', 'uniA733', 'uniA734', 'uniA735', 'uniA736', 'uniA737', 'uniA738', 'uniA739', 'uniA73A', 'uniA73B', 'uniA73C', 'uniA73D', 'uniA73E', 'uniA73F', 'uniA740', 'uniA741', 'uniA742', 'uniA743', 'uniA744', 'uniA745', 'uniA746', 'uniA747', 'uniA748', 'uniA749', 'uniA74A', 'uniA74B', 'uniA74C', 'uniA74D', 'uniA74E', 'uniA74F', 'uniA750', 'uniA751', 'uniA752', 'uniA753', 'uniA754', 'uniA755', 'uniA756', 'uniA757', 'uniA758', 'uniA759', 'uniA75A', 'uniA75B', 'uniA75C', 'uniA75D', 'uniA75E', 'uniA75F', 'uniA760', 'uniA761', 'uniA762', 'uniA763', 'uniA764', 'uniA765', 'uniA766', 'uniA767', 'uniA768', 'uniA769', 'uniA76A', 'uniA76B', 'uniA76C', 'uniA76D', 'uniA76E', 'uniA76F', 'uniA770', 'uniA771', 'uniA772', 'uniA773', 'uniA774', 'uniA775', 'uniA776', 'uniA777', 'uniA778', 'uniA779', 'uniA77A', 'uniA77B', 'uniA77C', 'uniA77D', 'uniA77E', 'uniA77F', 'uniA780', 'uniA781', 'uniA782', 'uniA783', 'uniA784', 'uniA785', 'uniA786', 'uniA787', 'uniA788', 'uniA789', 'uniA78A', 'uniA78B', 'uniA78C', 'uniA78D', 'uniA78E', 'uniA78F', 'uniA790', 'uniA791', 'uniA792', 'uniA793', 'uniA794', 'uniA795', 'uniA796', 'uniA797', 'uniA798', 'uniA799', 'uniA79A', 'uniA79B', 'uniA79C', 'uniA79D', 'uniA79E', 'uniA79F', 'uniA7A0', 'uniA7A1', 'uniA7A2', 'uniA7A3', 'uniA7A4', 'uniA7A5', 'uniA7A6', 'uniA7A7', 'uniA7A8', 'uniA7A9', 'uniA7AA', 'uniA7AB', 'uniA7AC', 'uniA7AD', 'uniA7AE', 'uniA7B0', 'uniA7B1', 'uniA7B2', 'uniA7B3', 'uniA7B4', 'uniA7B5', 'uniA7B6', 'uniA7B7', 'uniA7F7', 'uniA7F8', 'uniA7F9', 'uniA7FA', 'uniA7FB', 'uniA7FC', 'uniA7FD', 'uniA7FE', 'uniA7FF', 'uniA92E', 'uniAB30', 'uniAB31', 'uniAB32', 'uniAB33', 'uniAB34', 'uniAB35', 'uniAB36', 'uniAB37', 'uniAB38', 'uniAB39', 'uniAB3A', 'uniAB3B', 'uniAB3C', 'uniAB3D', 'uniAB3E', 'uniAB3F', 'uniAB40', 'uniAB41', 'uniAB42', 'uniAB43', 'uniAB44', 'uniAB45', 'uniAB46', 'uniAB47', 'uniAB48', 'uniAB49', 'uniAB4A', 'uniAB4B', 'uniAB4C', 'uniAB4D', 'uniAB4E', 'uniAB4F', 'uniAB50', 'uniAB51', 'uniAB52', 'uniAB53', 'uniAB54', 'uniAB55', 'uniAB56', 'uniAB57', 'uniAB58', 'uniAB59', 'uniAB5A', 'uniAB5B', 'uniAB5C', 'uniAB5D', 'uniAB5E', 'uniAB5F', 'uniAB60', 'uniAB61', 'uniAB62', 'uniAB63', 'uniAB64', 'uniAB65', 'uniFE00', 'uniFE20', 'uniFE21', 'uniFE22', 'uniFE23', 'uniFE27', 'uniFE28', 'uniFE29', 'uniFE2A', 'uniFE2B', 'uniFE2C', 'uniFE2D', 'uniFE2E', 'uniFE2F', 'uniFEFF', 'uniFFFC', 'uniFFFD', 'uogonek', 'uogonek.loclNAV', 'uogonek.sc', 'upsilon', 'upsilondieresis', 'upsilondieresistonos', 'upsilontonos', 'upwardsancora', 'urabove', 'uring', 'uring.sc', 'usabove', 'utilde', 'utilde.sc', 'v', 'v.sc', 'w', 'w.sc', 'wacute', 'wacute.sc', 'wcircumflex', 'wcircumflex.sc', 'wdieresis', 'wdieresis.sc', 'weierstrass', 'wgrave', 'wgrave.sc', 'x', 'x.sc', 'xi', 'y', 'y.sc', 'yacute', 'yacute.sc', 'ycircumflex', 'ycircumflex.sc', 'ydieresis', 'ydieresis.sc', 'yen', 'ygrave', 'ygrave.sc', 'z', 'z.sc', 'zacute', 'zacute.sc', 'zcaron', 'zcaron.sc', 'zdotaccent', 'zdotaccent.sc', 'zero', 'zero.dnom', 'zero.lf', 'zero.numr', 'zero.osf', 'zero.slash', 'zero.tosf', 'zeta', 'zigzagbelow']\n"
     ]
    }
   ],
   "source": [
    "print(font.getGlyphNames())"
   ]
  },
  {
   "cell_type": "markdown",
   "metadata": {},
   "source": [
    "Using this, we can also get how many characters are in this font file:"
   ]
  },
  {
   "cell_type": "code",
   "execution_count": 10,
   "metadata": {
    "scrolled": true
   },
   "outputs": [
    {
     "name": "stdout",
     "output_type": "stream",
     "text": [
      "3246\n"
     ]
    }
   ],
   "source": [
    "print(len(font.getGlyphNames()))"
   ]
  },
  {
   "cell_type": "markdown",
   "metadata": {},
   "source": [
    "## Let's do fun things with Drawbot! ##\n",
    "\n",
    "Okay, what can we do with all this information besides just plain information, you say? Let's do some fun things, illustrated with [DrawBot](https://drawbot.com). I'm going to use `Drawbot` as a python module here, so let's import it."
   ]
  },
  {
   "cell_type": "code",
   "execution_count": 11,
   "metadata": {},
   "outputs": [],
   "source": [
    "import drawBot as draw"
   ]
  },
  {
   "cell_type": "markdown",
   "metadata": {},
   "source": [
    "I'm using drawbot as a module here, so I need to set it up so I can see it on my Jupyter Notebook. I'm setting a `startdraw` function and `show` so I can quickly call it while I'm drawing things, since drawbot needs the same lines to start and end a drawing.\n",
    "\n",
    "This incorporates the IPython module, so you may need to install it if you don't already have it."
   ]
  },
  {
   "cell_type": "code",
   "execution_count": 12,
   "metadata": {},
   "outputs": [],
   "source": [
    "from IPython.display import Image, display\n",
    "\n",
    "def startdraw(canvas_width,canvas_height):\n",
    "    draw.newDrawing()\n",
    "    draw.newPage(canvas_width, canvas_height)\n",
    "    \n",
    "def show():\n",
    "    draw.saveImage(\"drawBotImage.png\")\n",
    "    draw.endDrawing()\n",
    "    drawing = Image(filename = \"drawBotImage.png\")\n",
    "    display(drawing)"
   ]
  },
  {
   "cell_type": "markdown",
   "metadata": {},
   "source": [
    "### Modifying Outline Paths ###\n",
    "Using the `get_outline` function we made before, let's draw the letter 'a'. I'm parsing information from `get_outline`, making a `BezierPath` object, and adding all the paths in there. Take a look at the [Drawbot Documentation for BezierPath](http://www.drawbot.com/content/shapes/bezierPath.html) if you need a refresher. You'll notice that I'm using the `.scale` to reduce the size before doing the line too."
   ]
  },
  {
   "cell_type": "code",
   "execution_count": 13,
   "metadata": {},
   "outputs": [
    {
     "data": {
      "image/png": "[encoded data removed]",
      "text/plain": [
       "<IPython.core.display.Image object>"
      ]
     },
     "metadata": {},
     "output_type": "display_data"
    }
   ],
   "source": [
    "path_orig = get_outline(font, \"a\")\n",
    "startdraw(200,200)\n",
    "\n",
    "paths = []\n",
    "for i in path_orig:\n",
    "    if i[0] == 'moveTo':\n",
    "        path = draw.BezierPath()\n",
    "        path.moveTo((i[1][0]))\n",
    "    if i[0] == 'lineTo':\n",
    "        path.lineTo((i[1][0]))\n",
    "    if i[0] == 'qCurveTo':\n",
    "        path.qCurveTo(*(i[1]))\n",
    "    if i[0] == 'closePath':\n",
    "        path.closePath()\n",
    "        paths.append(path)\n",
    "\n",
    "finalpath = paths[0].difference(paths[1])\n",
    "finalpath.scale(0.3) #let's scale it down!\n",
    "draw.fill(0.5)\n",
    "draw.stroke(0)\n",
    "draw.drawPath(finalpath)\n",
    "show()"
   ]
  },
  {
   "cell_type": "markdown",
   "metadata": {},
   "source": [
    "Ta-da! We made just one single letter, no big deal, you might say. Let's start manipulating all the points to give it a distorted filter:"
   ]
  },
  {
   "cell_type": "code",
   "execution_count": 14,
   "metadata": {},
   "outputs": [
    {
     "data": {
      "image/png": "[encoded data removed]",
      "text/plain": [
       "<IPython.core.display.Image object>"
      ]
     },
     "metadata": {},
     "output_type": "display_data"
    }
   ],
   "source": [
    "import random\n",
    "path_orig = get_outline(font, \"a\")\n",
    "startdraw(300,300)\n",
    "paths = []\n",
    "for i in path_orig:\n",
    "    disturbance = random.randint(-35, 35)\n",
    "    if i[0] == 'moveTo':\n",
    "        x = i[1][0][0] + disturbance\n",
    "        y = i[1][0][1] + disturbance\n",
    "        path = draw.BezierPath()\n",
    "        path.moveTo((x,y))\n",
    "    if i[0] == 'lineTo':\n",
    "        x = i[1][0][0] + disturbance\n",
    "        y = i[1][0][1]+ disturbance\n",
    "        path.lineTo((x,y))\n",
    "    if i[0] == 'qCurveTo':\n",
    "        temp = []\n",
    "        for cord in i[1]:\n",
    "            x = cord[0] + disturbance\n",
    "            y = cord[1] + disturbance\n",
    "            temp.append((x,y))\n",
    "        path.qCurveTo(*temp)\n",
    "    if i[0] == 'closePath':\n",
    "        path.closePath()\n",
    "        paths.append(path)\n",
    "finalpath = paths[0].difference(paths[1])\n",
    "finalpath.scale(0.3) #let's scale it down!\n",
    "draw.fill(0.5)\n",
    "draw.stroke(0)\n",
    "draw.drawPath(finalpath)\n",
    "show()"
   ]
  },
  {
   "cell_type": "markdown",
   "metadata": {},
   "source": [
    "## Parting words ##\n",
    "See, lots of fun things! :-) That's it from me (at least for now.)\n",
    "\n",
    "Check out the wiki Page on Github for fontTools if you would like to dig deeper:\n",
    "[Wiki Page on Github for FontTools](https://github.com/fonttools/fonttools/wiki) \n",
    "\n",
    "Wish you the best of luck on your font-navigating journey!"
   ]
  }
 ],
 "metadata": {
  "kernelspec": {
   "display_name": "Python 3",
   "language": "python",
   "name": "python3"
  },
  "language_info": {
   "codemirror_mode": {
    "name": "ipython",
    "version": 3
   },
   "file_extension": ".py",
   "mimetype": "text/x-python",
   "name": "python",
   "nbconvert_exporter": "python",
   "pygments_lexer": "ipython3",
   "version": "3.7.7"
  }
 },
 "nbformat": 4,
 "nbformat_minor": 4
}
